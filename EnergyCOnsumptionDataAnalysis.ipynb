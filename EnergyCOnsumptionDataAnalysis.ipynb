{
  "cells": [
    {
      "cell_type": "code",
      "execution_count": 5,
      "metadata": {
        "id": "JYr2jkpkpbdG"
      },
      "outputs": [],
      "source": [
        "import numpy as np\n",
        "import pandas as pd\n",
        "import matplotlib.pyplot as plt"
      ]
    },
    {
      "cell_type": "code",
      "execution_count": 2,
      "metadata": {
        "id": "PTqKOcZV678C"
      },
      "outputs": [],
      "source": [
        "import openpyxl"
      ]
    },
    {
      "cell_type": "code",
      "execution_count": 12,
      "metadata": {
        "colab": {
          "base_uri": "https://localhost:8080/"
        },
        "id": "lk4kFhVe7GoJ",
        "outputId": "534453fa-fb88-4618-fcdb-9f43f342daf6"
      },
      "outputs": [
        {
          "name": "stdout",
          "output_type": "stream",
          "text": [
            "                         Data release date: March 2023  \\\n",
            "0    Table HC2.9  Structural and geographic charact...   \n",
            "1                                                  NaN   \n",
            "2                                                  NaN   \n",
            "3                                                  NaN   \n",
            "4                                            All homes   \n",
            "..                                                 ...   \n",
            "214                                    Some other fuel   \n",
            "215                              Hot tub used 0 months   \n",
            "216                                         No hot tub   \n",
            "217                                                NaN   \n",
            "218  Data source: U.S. Energy Information Administr...   \n",
            "\n",
            "                            Unnamed: 1                    Unnamed: 2  \\\n",
            "0                                  NaN                           NaN   \n",
            "1    Number of housing units (million)                           NaN   \n",
            "2                                  NaN  Size of home in square feetb   \n",
            "3                          Total U.S.a             Less \\nthan 1,000   \n",
            "4                               123.53                         30.01   \n",
            "..                                 ...                           ...   \n",
            "214                               0.36                             Q   \n",
            "215                                2.6                          0.26   \n",
            "216                             114.69                         29.38   \n",
            "217                                NaN                           NaN   \n",
            "218                                NaN                           NaN   \n",
            "\n",
            "           Unnamed: 3         Unnamed: 4        Unnamed: 5        Unnamed: 6  \\\n",
            "0                 NaN                NaN               NaN               NaN   \n",
            "1                 NaN                NaN               NaN               NaN   \n",
            "2                 NaN                NaN               NaN               NaN   \n",
            "3    1,000 \\nto 1,499  1,500 \\nto 1,999   2,000 \\nto 2,499  2,500 \\nto 2,999   \n",
            "4               28.08              22.22             15.62             10.31   \n",
            "..                ...                ...               ...               ...   \n",
            "214                 Q               0.06                 Q                 Q   \n",
            "215              0.22               0.47              0.46              0.36   \n",
            "216             27.11               20.8             14.06              9.19   \n",
            "217               NaN                NaN               NaN               NaN   \n",
            "218               NaN                NaN               NaN               NaN   \n",
            "\n",
            "          Unnamed: 7  \n",
            "0                NaN  \n",
            "1                NaN  \n",
            "2                NaN  \n",
            "3    3,000 \\nor more  \n",
            "4              17.29  \n",
            "..               ...  \n",
            "214             0.18  \n",
            "215             0.83  \n",
            "216            14.16  \n",
            "217              NaN  \n",
            "218              NaN  \n",
            "\n",
            "[219 rows x 8 columns]\n"
          ]
        }
      ],
      "source": [
        "df = pd.read_excel('HC 2.9.xlsx')\n",
        "print(df)"
      ]
    },
    {
      "cell_type": "code",
      "execution_count": 9,
      "metadata": {
        "colab": {
          "base_uri": "https://localhost:8080/"
        },
        "id": "55PCUHci7Zfj",
        "outputId": "86b3a313-0671-4ee1-a5d7-eec2aee46006"
      },
      "outputs": [
        {
          "data": {
            "text/plain": [
              "np.float64(0.13636363636363638)"
            ]
          },
          "execution_count": 9,
          "metadata": {},
          "output_type": "execute_result"
        }
      ],
      "source": [
        "from sklearn import linear_model\n",
        "from sklearn.linear_model import Ridge\n",
        "from sklearn.model_selection import train_test_split\n",
        "reg = linear_model.Ridge(alpha=.5)\n",
        "reg.fit([[0, 0], [0, 0], [1, 1]], [0, .1, 1])\n",
        "reg.coef_\n",
        "reg.intercept_"
      ]
    },
    {
      "cell_type": "code",
      "execution_count": null,
      "metadata": {
        "colab": {
          "base_uri": "https://localhost:8080/"
        },
        "id": "OvqLsyCA8EDP",
        "outputId": "8bca5b8a-b729-4e35-aa1f-b7a8d1f5898b"
      },
      "outputs": [
        {
          "name": "stdout",
          "output_type": "stream",
          "text": [
            "Predictions for new data: [148.05557832 196.52778916]\n"
          ]
        }
      ],
      "source": [
        "\n",
        "data = {'building_size': [1000, 1500, 2000, 1200, 1800],\n",
        "        'other_feature': [5, 7, 9, 6, 8],\n",
        "        'energy_consumption': [100, 140, 180, 115, 165]}\n",
        "df = pd.DataFrame(data)\n",
        "\n",
        "# Separate features (X) and target (y)\n",
        "building_size = df['building_size']\n",
        "energy_comsumption = df['energy_consumption']\n",
        "X = df[['building_size', 'other_feature']]\n",
        "y = df['energy_consumption']\n",
        "\n",
        "\n",
        "ridge_model = Ridge(alpha=1.0)\n",
        "\n",
        "\n",
        "reg_fit = ridge_model.fit(X, y)\n",
        "\n",
        "\n",
        "new_data = pd.DataFrame({'building_size': [1600, 2200], 'other_feature': [7.5, 10]})\n",
        "predictions = reg_fit.predict(new_data)\n",
        "print(f\"Predictions for new data: {predictions}\")"
      ]
    }
  ],
  "metadata": {
    "colab": {
      "provenance": []
    },
    "kernelspec": {
      "display_name": "Python 3",
      "name": "python3"
    },
    "language_info": {
      "name": "python"
    }
  },
  "nbformat": 4,
  "nbformat_minor": 0
}
